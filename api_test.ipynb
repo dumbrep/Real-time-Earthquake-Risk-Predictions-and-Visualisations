{
 "cells": [
  {
   "cell_type": "code",
   "execution_count": null,
   "metadata": {},
   "outputs": [],
   "source": [
    "import requests\n",
    "import pandas as pd"
   ]
  },
  {
   "cell_type": "code",
   "execution_count": null,
   "metadata": {},
   "outputs": [],
   "source": [
    "respones = requests.get(\"https://earthquake.usgs.gov/fdsnws/event/1/query?format=geojson&starttime=NOW-30MINUTES\")"
   ]
  },
  {
   "cell_type": "code",
   "execution_count": null,
   "metadata": {},
   "outputs": [],
   "source": [
    "\n",
    "data = []"
   ]
  },
  {
   "cell_type": "code",
   "execution_count": null,
   "metadata": {},
   "outputs": [],
   "source": [
    "import requests\n",
    "import json\n",
    "\n",
    "# List to store earthquake data\n",
    "earthquake_data = []\n",
    "\n",
    "# Fetch earthquake data\n",
    "for year in range(2000, 2025):  # Adjust range as needed\n",
    "    for month in range(1, 13):  # Loop through all 12 months\n",
    "        start_month = month\n",
    "        end_month = month + 1\n",
    "        end_year = year\n",
    "\n",
    "        # Handle December separately (next year)\n",
    "        if month == 12:\n",
    "            end_month = 1\n",
    "            end_year = year + 1\n",
    "\n",
    "        # API request URL\n",
    "        url = f\"https://earthquake.usgs.gov/fdsnws/event/1/query?format=geojson&starttime={year}-{start_month:02d}-02&endtime={end_year}-{end_month:02d}-01\"\n",
    "\n",
    "        try:\n",
    "            response = requests.get(url)\n",
    "            response.raise_for_status()  # Check for HTTP errors\n",
    "            earthquake_data.append(response.json())  # Parse JSON response\n",
    "            print(f\"✅ Data fetched for {year}-{start_month:02d}\")\n",
    "\n",
    "        except requests.exceptions.RequestException as e:\n",
    "            print(f\"❌ Error fetching data for {year}-{start_month:02d}: {e}\")\n",
    "\n",
    "print(\"Data collection complete\")\n",
    "# Save data as a JSON file in Colab\n",
    "file_path = \"earthquake_data.json\"\n",
    "with open(file_path, \"w\") as json_file:\n",
    "    json.dump(earthquake_data, json_file, indent=4)\n",
    "\n",
    "print(f\"✅ Data collection complete! JSON file saved at {file_path}\")\n"
   ]
  },
  {
   "cell_type": "code",
   "execution_count": null,
   "metadata": {},
   "outputs": [],
   "source": [
    "earthquake_data"
   ]
  },
  {
   "cell_type": "code",
   "execution_count": null,
   "metadata": {},
   "outputs": [],
   "source": [
    "data = {\n",
    "    \"mag\" : [],\n",
    "    \"place\" : [],\n",
    "    \"time\" : [],\n",
    "    \"updated\" : [],\n",
    "    \"tz\" : [],\n",
    "    \"url\": [],\n",
    "    \"detail\" : [],\n",
    "    'felt': [],\n",
    "    'cdi': [],\n",
    "    'mmi': [],\n",
    "    'alert': [],\n",
    "    'status': [],\n",
    "    'tsunami': [],\n",
    "    'sig': [],\n",
    "    'net': [],\n",
    "    'code': [],\n",
    "    'ids': [],\n",
    "    \"sources\": [],\n",
    "    \"types\": [],\n",
    "    \"nst\": [],\n",
    "    \"dmin\": [],\n",
    "    \"rms\": [],\n",
    "    \"gap\": [],\n",
    "    \"magType\": [],\n",
    "    \"type\": [],\n",
    "    \"title\": [],\n",
    "    \"type\": [],\n",
    "    \"coordinates\": [],\n",
    "}"
   ]
  },
  {
   "cell_type": "code",
   "execution_count": null,
   "metadata": {},
   "outputs": [],
   "source": []
  },
  {
   "cell_type": "code",
   "execution_count": 2,
   "metadata": {},
   "outputs": [
    {
     "name": "stdout",
     "output_type": "stream",
     "text": [
      "Earthquakes in the last 1_hour: 9\n",
      "Earthquakes in the last 3_hours: 24\n",
      "Earthquakes in the last 6_hours: 44\n",
      "Earthquakes in the last 30_minutes: 5\n"
     ]
    }
   ],
   "source": [
    "import requests\n",
    "from datetime import datetime, timedelta\n",
    "\n",
    "# Define time ranges\n",
    "time_durations = {\n",
    "    \"1_hour\": timedelta(hours=1),\n",
    "    \"3_hours\": timedelta(hours=3),\n",
    "    \"6_hours\": timedelta(hours=6),\n",
    "    \"30_minutes\" : timedelta(minutes=30)\n",
    "}\n",
    "\n",
    "# Get current time in UTC\n",
    "now = datetime.utcnow()\n",
    "\n",
    "for label, duration in time_durations.items():\n",
    "    start_time = (now - duration).isoformat()  # Convert to ISO 8601 format\n",
    "    url = f\"https://earthquake.usgs.gov/fdsnws/event/1/query?format=geojson&starttime={start_time}\"\n",
    "    \n",
    "    response = requests.get(url)\n",
    "    if response.status_code == 200:\n",
    "        data = response.json()\n",
    "        print(f\"Earthquakes in the last {label}: {len(data['features'])}\")\n",
    "    else:\n",
    "        print(f\"Failed to fetch data for {label}. Status Code:\", response.status_code)\n"
   ]
  },
  {
   "cell_type": "code",
   "execution_count": null,
   "metadata": {},
   "outputs": [],
   "source": [
    " "
   ]
  }
 ],
 "metadata": {
  "kernelspec": {
   "display_name": "Python 3",
   "language": "python",
   "name": "python3"
  },
  "language_info": {
   "codemirror_mode": {
    "name": "ipython",
    "version": 3
   },
   "file_extension": ".py",
   "mimetype": "text/x-python",
   "name": "python",
   "nbconvert_exporter": "python",
   "pygments_lexer": "ipython3",
   "version": "3.11.3"
  }
 },
 "nbformat": 4,
 "nbformat_minor": 2
}
